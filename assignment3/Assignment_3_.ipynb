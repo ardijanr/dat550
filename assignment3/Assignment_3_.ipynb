{
  "cells": [
    {
      "cell_type": "markdown",
      "metadata": {
        "id": "2Lr3RIsGcQLy"
      },
      "source": [
        "# Assignment 3\n",
        "\n",
        "This assignment has one main part:\n",
        "\n",
        "**PCA** : In this part the goal is to implement the dimensionality reduction technique *Principal Component Analysis (PCA)* to a very high dimensional data and apply visualization. Note that you are not allowed to use the built-in PCA API provided by the sklearn library. Instead you will be implementing from the scratch. Use the data in data/train.csv for generating the PCA. See the detailed intructions below.\n",
        "\n",
        "\n",
        "For this task we use the  MovieLens dataset. The data is in train.csv.\n"
      ]
    },
    {
      "cell_type": "code",
      "execution_count": 145,
      "metadata": {
        "id": "QDM56_RscQMB"
      },
      "outputs": [],
      "source": [
        "import numpy as np\n",
        "import pandas as pd\n",
        "from scipy.linalg import sqrtm"
      ]
    },
    {
      "cell_type": "markdown",
      "metadata": {
        "id": "uu4ONaTfcQMG"
      },
      "source": [
        "# Part-1a: Convert data to user-movie rating matrix (10 points)\n",
        "    - Read the train.csv file and movies.dat file and use user_id and movie_id to create user-movie rating matrix\n"
      ]
    },
    {
      "cell_type": "code",
      "execution_count": 146,
      "metadata": {
        "id": "3Vc2jKSScQMJ"
      },
      "outputs": [],
      "source": [
        "def readMovieRatingData():\n",
        "    df = pd.read_csv('./train.csv')\n",
        "\n",
        "    # for each user\n",
        "    # for each movie\n",
        "    max_user_id = df[\"user_id\"].max()\n",
        "    max_movie_id = df[\"movie_id\"].max()\n",
        "\n",
        "    return df.pivot_table(index=\"user_id\",columns=\"movie_id\",values=\"rating\",fill_value=0)\n",
        "\n",
        "\n",
        "\n",
        "rating_data=readMovieRatingData()"
      ]
    },
    {
      "cell_type": "code",
      "execution_count": 147,
      "metadata": {
        "id": "kYFt5uDAcQMN"
      },
      "outputs": [],
      "source": [
        "def split_categories(categories):\n",
        "    return categories.split('|')\n",
        "\n",
        "def readMovieData():\n",
        "    # Read the movie data from data/movies.dat\n",
        "    # Mind the header row in the train.csv\n",
        "    df = pd.read_csv('./movies.dat',delimiter=\"::\", encoding=\"latin_1\", engine=\"python\",header=None)\n",
        "    df.iloc[:, -1] = df.iloc[:, -1].apply(split_categories)\n",
        "    return df"
      ]
    },
    {
      "cell_type": "code",
      "execution_count": 148,
      "metadata": {
        "id": "DMKU-e5ecQMQ"
      },
      "outputs": [
        {
          "data": {
            "text/html": [
              "<div>\n",
              "<style scoped>\n",
              "    .dataframe tbody tr th:only-of-type {\n",
              "        vertical-align: middle;\n",
              "    }\n",
              "\n",
              "    .dataframe tbody tr th {\n",
              "        vertical-align: top;\n",
              "    }\n",
              "\n",
              "    .dataframe thead th {\n",
              "        text-align: right;\n",
              "    }\n",
              "</style>\n",
              "<table border=\"1\" class=\"dataframe\">\n",
              "  <thead>\n",
              "    <tr style=\"text-align: right;\">\n",
              "      <th></th>\n",
              "      <th>0</th>\n",
              "      <th>1</th>\n",
              "      <th>2</th>\n",
              "    </tr>\n",
              "  </thead>\n",
              "  <tbody>\n",
              "    <tr>\n",
              "      <th>0</th>\n",
              "      <td>1</td>\n",
              "      <td>Toy Story (1995)</td>\n",
              "      <td>[Animation, Children's, Comedy]</td>\n",
              "    </tr>\n",
              "    <tr>\n",
              "      <th>1</th>\n",
              "      <td>2</td>\n",
              "      <td>Jumanji (1995)</td>\n",
              "      <td>[Adventure, Children's, Fantasy]</td>\n",
              "    </tr>\n",
              "    <tr>\n",
              "      <th>2</th>\n",
              "      <td>3</td>\n",
              "      <td>Grumpier Old Men (1995)</td>\n",
              "      <td>[Comedy, Romance]</td>\n",
              "    </tr>\n",
              "    <tr>\n",
              "      <th>3</th>\n",
              "      <td>4</td>\n",
              "      <td>Waiting to Exhale (1995)</td>\n",
              "      <td>[Comedy, Drama]</td>\n",
              "    </tr>\n",
              "    <tr>\n",
              "      <th>4</th>\n",
              "      <td>5</td>\n",
              "      <td>Father of the Bride Part II (1995)</td>\n",
              "      <td>[Comedy]</td>\n",
              "    </tr>\n",
              "    <tr>\n",
              "      <th>...</th>\n",
              "      <td>...</td>\n",
              "      <td>...</td>\n",
              "      <td>...</td>\n",
              "    </tr>\n",
              "    <tr>\n",
              "      <th>3878</th>\n",
              "      <td>3948</td>\n",
              "      <td>Meet the Parents (2000)</td>\n",
              "      <td>[Comedy]</td>\n",
              "    </tr>\n",
              "    <tr>\n",
              "      <th>3879</th>\n",
              "      <td>3949</td>\n",
              "      <td>Requiem for a Dream (2000)</td>\n",
              "      <td>[Drama]</td>\n",
              "    </tr>\n",
              "    <tr>\n",
              "      <th>3880</th>\n",
              "      <td>3950</td>\n",
              "      <td>Tigerland (2000)</td>\n",
              "      <td>[Drama]</td>\n",
              "    </tr>\n",
              "    <tr>\n",
              "      <th>3881</th>\n",
              "      <td>3951</td>\n",
              "      <td>Two Family House (2000)</td>\n",
              "      <td>[Drama]</td>\n",
              "    </tr>\n",
              "    <tr>\n",
              "      <th>3882</th>\n",
              "      <td>3952</td>\n",
              "      <td>Contender, The (2000)</td>\n",
              "      <td>[Drama, Thriller]</td>\n",
              "    </tr>\n",
              "  </tbody>\n",
              "</table>\n",
              "<p>3883 rows × 3 columns</p>\n",
              "</div>"
            ],
            "text/plain": [
              "         0                                   1  \\\n",
              "0        1                    Toy Story (1995)   \n",
              "1        2                      Jumanji (1995)   \n",
              "2        3             Grumpier Old Men (1995)   \n",
              "3        4            Waiting to Exhale (1995)   \n",
              "4        5  Father of the Bride Part II (1995)   \n",
              "...    ...                                 ...   \n",
              "3878  3948             Meet the Parents (2000)   \n",
              "3879  3949          Requiem for a Dream (2000)   \n",
              "3880  3950                    Tigerland (2000)   \n",
              "3881  3951             Two Family House (2000)   \n",
              "3882  3952               Contender, The (2000)   \n",
              "\n",
              "                                     2  \n",
              "0      [Animation, Children's, Comedy]  \n",
              "1     [Adventure, Children's, Fantasy]  \n",
              "2                    [Comedy, Romance]  \n",
              "3                      [Comedy, Drama]  \n",
              "4                             [Comedy]  \n",
              "...                                ...  \n",
              "3878                          [Comedy]  \n",
              "3879                           [Drama]  \n",
              "3880                           [Drama]  \n",
              "3881                           [Drama]  \n",
              "3882                 [Drama, Thriller]  \n",
              "\n",
              "[3883 rows x 3 columns]"
            ]
          },
          "execution_count": 148,
          "metadata": {},
          "output_type": "execute_result"
        }
      ],
      "source": [
        "movie_data = readMovieData()\n",
        "\n",
        "movie_data"
      ]
    },
    {
      "cell_type": "markdown",
      "metadata": {
        "id": "o8L1pkvQcQMS"
      },
      "source": [
        "## We are going to compute PCA for movies so transpose the matrix using X=readMovieRatingData().T\n"
      ]
    },
    {
      "cell_type": "markdown",
      "metadata": {
        "id": "bGZmeFtwcQMT"
      },
      "source": [
        "# Part-1b: Preprocessing  (10 points)\n",
        "Before implementing PCA you are required to perform some preprocessing steps:\n",
        "1. Mean normalization: Replace each feature/attribute, $x_{ji}$ with $x_j - \\mu_j$, In other words, determine the mean of each feature set, and then for each feature subtract the mean from the value, so we re-scale the mean to be 0 \n",
        "2. Feature scaling: If features have very different scales then scale make them comparable by altering the scale, so they all have a comparable range of values e.g. $x_{ji}$ is set to $(x_j - \\mu_j) / s_j$  Where $s_j$ is some measure of the range, so could be  $\\max(x_j) - \\min(x_j)$ or Standard deviation $stddev(x_j)$."
      ]
    },
    {
      "cell_type": "code",
      "execution_count": 149,
      "metadata": {
        "id": "FeEK1pHzcQMV"
      },
      "outputs": [],
      "source": [
        "# TODO We can see features have very different scales. So we apply feature scaling with Standard \n",
        "# deviation as measure of the range, using StandardScaler from scikit-learn\n",
        "\n",
        "X=rating_data.T\n",
        "X_orig=rating_data.T\n",
        "\n",
        "def subtract_mean(row):\n",
        "    row_mean = row.mean()\n",
        "    return row - row_mean\n",
        "# Iterate over each row in the DataFrame\n",
        "X = X.iloc[:, 1:].apply(lambda row: subtract_mean(row), axis=1)\n"
      ]
    },
    {
      "cell_type": "markdown",
      "metadata": {
        "id": "V48u6mJ3cQMX"
      },
      "source": [
        "# Part-2: Covariance matrix  (15 points)\n",
        "Now the preprocessing is finished. Next, as explained in the lecture, you need to compute the covariance matrix https://en.wikipedia.org/wiki/Covariance_matrix. Given $n \\times m$ $n$ rows and $m$ columns matrix, a covariance matrix is an $n \\times n$ matrix given as below (sigma)\n",
        "$\\Sigma = \\frac{1}{m}\\sum{\\left(x^{i}\\right)\\times \\left(x^{i}\\right)^{T}}$\n",
        "You may use the \"numpy.cov\" function in numpy library "
      ]
    },
    {
      "cell_type": "code",
      "execution_count": 150,
      "metadata": {
        "id": "NOxI0l5mcQMZ"
      },
      "outputs": [
        {
          "name": "stdout",
          "output_type": "stream",
          "text": [
            "[[ 3.74023577e-01 -7.65463008e-05  3.44030740e-03 ... -2.61420216e-03\n",
            "  -1.41125695e-02  1.34225740e-02]\n",
            " [-7.65463008e-05  1.61473221e-01  2.36579409e-02 ...  1.90611688e-02\n",
            "   2.53589216e-03 -3.84333210e-02]\n",
            " [ 3.44030740e-03  2.36579409e-02  9.06833526e-02 ...  2.73558228e-02\n",
            "   1.21319114e-02 -2.98406591e-02]\n",
            " ...\n",
            " [-2.61420216e-03  1.90611688e-02  2.73558228e-02 ...  8.78953387e-02\n",
            "   2.92481781e-02 -3.52144546e-02]\n",
            " [-1.41125695e-02  2.53589216e-03  1.21319114e-02 ...  2.92481781e-02\n",
            "   3.65219387e-01 -3.54441253e-03]\n",
            " [ 1.34225740e-02 -3.84333210e-02 -2.98406591e-02 ... -3.52144546e-02\n",
            "  -3.54441253e-03  8.16282421e-01]]\n"
          ]
        }
      ],
      "source": [
        "# Compute X to covariance matrix cov_matrix.\n",
        "cov_matrix = np.cov(X.to_numpy(),rowvar=False)\n",
        "\n",
        "print(cov_matrix)\n",
        "\n"
      ]
    },
    {
      "cell_type": "markdown",
      "metadata": {
        "id": "P6ZqCRZrcQMb"
      },
      "source": [
        "# Instructions for part 3, 4, and 5\n",
        "- getSVD() function is expected to return 3 values. For example: ```U, S, V = getSVD(cov_matrix)```\n",
        "- You can follow the skeleton below to have an idea on how the autograder's test calls your functions:\n",
        "```\n",
        "U, S, V = getSVD(cov_matrix)\n",
        "z = getKComponents(U, X, k)\n",
        "ratio = getVarianceRatio(z, U, X, k)\n",
        "```\n",
        "- Using the built-in PCA implementation in sklearn, the approximate X matrix can be obtained by function ```inverse_transform```"
      ]
    },
    {
      "cell_type": "markdown",
      "metadata": {
        "id": "BkPzkSqccQMd"
      },
      "source": [
        "# Part-3: SVD computation  (10 points)\n",
        "Now compute the SVD on the covariance matrix $SVD(\\Sigma)$. You may use the svd implementation in numpy.linalg.svd"
      ]
    },
    {
      "cell_type": "code",
      "execution_count": 151,
      "metadata": {
        "id": "iLDJEYGzcQMe"
      },
      "outputs": [],
      "source": [
        "from scipy.sparse.linalg import svds\n",
        "\n",
        "def getSVD(cov_matrix,k=2):\n",
        "    return svds(cov_matrix, k=k)"
      ]
    },
    {
      "cell_type": "code",
      "execution_count": 152,
      "metadata": {},
      "outputs": [],
      "source": [
        "def getKComponents(U,X):\n",
        "    return np.dot(X,U)"
      ]
    },
    {
      "cell_type": "markdown",
      "metadata": {
        "id": "_x6G67dQcQMg"
      },
      "source": [
        "# Part-4: Compute PCA matrix (K dimensional)  (10 points)\n",
        "Now select the first $k$ columns from the matrix $U$ and multiply with $X$ to get $k$ dimensional representation."
      ]
    },
    {
      "cell_type": "code",
      "execution_count": 163,
      "metadata": {
        "id": "xmhXImzPcQMh"
      },
      "outputs": [],
      "source": [
        "from sklearn.decomposition import PCA\n",
        "from scipy.sparse.linalg import svds\n",
        "\n",
        "\n",
        "k=1000\n",
        "\n",
        "U,S,V = getSVD(cov_matrix,k)\n",
        "\n",
        "Z = getKComponents(U,X)\n",
        "\n",
        "r_X = np.dot(Z, U.T)\n"
      ]
    },
    {
      "cell_type": "markdown",
      "metadata": {
        "id": "c-U7c99wcQMi"
      },
      "source": [
        "# Part-5: Compute Reconstruction Error  (15 points)\n",
        "Implement a function to compute the variance ratio (from reconstruction error)"
      ]
    },
    {
      "cell_type": "code",
      "execution_count": 164,
      "metadata": {
        "id": "Hwp0KPgRcQMj"
      },
      "outputs": [],
      "source": [
        "def getVarianceRatio(Z, X):\n",
        "    z_var = np.sum((X-Z)**2)\n",
        "    X_var = np.var(X) * X.shape[0]\n",
        "    ratios= z_var/X_var\n",
        "    return np.mean(ratios)"
      ]
    },
    {
      "cell_type": "code",
      "execution_count": 165,
      "metadata": {
        "id": "Z_CHCkSncQMk"
      },
      "outputs": [
        {
          "data": {
            "text/plain": [
              "0.11670552036285839"
            ]
          },
          "execution_count": 165,
          "metadata": {},
          "output_type": "execute_result"
        }
      ],
      "source": [
        "ratio = getVarianceRatio(r_X, X)\n",
        "\n",
        "ratio"
      ]
    },
    {
      "cell_type": "markdown",
      "metadata": {
        "id": "9ugXc6QccQMk"
      },
      "source": [
        "Compare the variance ration to the built-in PCA implementation in sklearn https://scikit-learn.org/stable/modules/generated/sklearn.decomposition.PCA.html (this step is optional)"
      ]
    },
    {
      "cell_type": "code",
      "execution_count": 156,
      "metadata": {
        "id": "xuFqjnlLcQMl"
      },
      "outputs": [
        {
          "name": "stderr",
          "output_type": "stream",
          "text": [
            "/nix/store/7b280vi2v4hd1fgcgxljkcgmczmrb98d-python3-3.10.9-env/lib/python3.10/site-packages/numpy/core/fromnumeric.py:3430: FutureWarning: In a future version, DataFrame.mean(axis=None) will return a scalar mean over the entire DataFrame. To retain the old behavior, use 'frame.mean(axis=0)' or just 'frame.mean()'\n",
            "  return mean(axis=axis, dtype=dtype, out=out, **kwargs)\n"
          ]
        },
        {
          "data": {
            "text/plain": [
              "user_id\n",
              "2       0.465742\n",
              "3      -0.740479\n",
              "4       0.126669\n",
              "5      -1.654703\n",
              "6       0.036748\n",
              "          ...   \n",
              "6036    0.128054\n",
              "6037    0.348989\n",
              "6038   -0.070896\n",
              "6039    0.240885\n",
              "6040    0.106858\n",
              "Length: 6039, dtype: float64"
            ]
          },
          "execution_count": 156,
          "metadata": {},
          "output_type": "execute_result"
        }
      ],
      "source": [
        "from sklearn.decomposition import PCA\n",
        "pca = PCA(n_components=k)\n",
        "z_pca = pca.fit_transform(X)\n",
        "X_approx_pca = pca.inverse_transform(z_pca)\n",
        "ratio_pca = np.mean((X-X_approx_pca).T.dot(X-X_approx_pca))/np.mean(X.T.dot(X))\n",
        "ratio_pca"
      ]
    },
    {
      "cell_type": "markdown",
      "metadata": {
        "id": "4B8mYZ2VcQMm"
      },
      "source": [
        "# Part-6: Scatter plot 2-dimensional PCA  (10 points)\n",
        "Using matplotlib plot the 2-dimensional scatter plot of the first 2 compoenents with y (movie genre from movies.dat file) as labels. Remember you are plotting movies in dimensions so you can label them with movie generes."
      ]
    },
    {
      "cell_type": "code",
      "execution_count": 157,
      "metadata": {
        "id": "E4kiYkticQMm"
      },
      "outputs": [
        {
          "ename": "SyntaxError",
          "evalue": "incomplete input (2519213865.py, line 3)",
          "output_type": "error",
          "traceback": [
            "\u001b[0;36m  Cell \u001b[0;32mIn[157], line 3\u001b[0;36m\u001b[0m\n\u001b[0;31m    def plotFunction(PCA, movie_data):\u001b[0m\n\u001b[0m                                      ^\u001b[0m\n\u001b[0;31mSyntaxError\u001b[0m\u001b[0;31m:\u001b[0m incomplete input\n"
          ]
        }
      ],
      "source": [
        "import matplotlib.pyplot as plt\n",
        "\n",
        "def plotFunction(PCA, movie_data):\n"
      ]
    },
    {
      "cell_type": "code",
      "execution_count": null,
      "metadata": {
        "id": "-6oiirHOcQMn"
      },
      "outputs": [],
      "source": [
        "plotFunction(z, movie_data)"
      ]
    },
    {
      "cell_type": "markdown",
      "metadata": {
        "id": "TpAxe9cIcQMo"
      },
      "source": [
        "# Part-7 Find best $K$  (10 points)\n",
        "Find the minimum value of $K$ with which the ratio between averaged squared projection error with total variation in data is less than 0.1% in other words we retain 99.9% of the variance. You can achieve this by repeating getKComponents with $K=1$ until the variance ratio is <= 0.1%."
      ]
    },
    {
      "cell_type": "code",
      "execution_count": null,
      "metadata": {
        "id": "GSfgzahNcQMo"
      },
      "outputs": [],
      "source": [
        "def findBestK(initial, step):\n",
        "    #TODO use the getVarianceRatio to find the best K\n",
        "    return 1"
      ]
    },
    {
      "cell_type": "markdown",
      "metadata": {
        "id": "Wcoi-qpycQMp"
      },
      "source": [
        "# Part-8: TSNE visualization (10 points)\n",
        "Finally, having found an optimal $K$ use these components as an input data to another dimensionality reduction method called tSNE (https://en.wikipedia.org/wiki/T-distributed_stochastic_neighbor_embedding) and reduce it to 2 dimensions."
      ]
    },
    {
      "cell_type": "code",
      "execution_count": null,
      "metadata": {
        "id": "2MZ0JT8vcQMp"
      },
      "outputs": [],
      "source": [
        "from sklearn.manifold import TSNE\n",
        "tsne_pca_results = None"
      ]
    },
    {
      "cell_type": "markdown",
      "metadata": {
        "id": "udXXci3-cQMq"
      },
      "source": [
        "Finally, scatter plot the components given by the tSNE using matplotlib compare it to the earlier scatter plot."
      ]
    },
    {
      "cell_type": "code",
      "execution_count": null,
      "metadata": {
        "id": "HCpIEwC9cQMq"
      },
      "outputs": [],
      "source": [
        "# Scatter plot the 2-dimensional tsne compoents with target as labels\n",
        "plotFunction(tsne_pca_results, movie_data)"
      ]
    }
  ],
  "metadata": {
    "colab": {
      "collapsed_sections": [],
      "name": "Assignment-3.ipynb",
      "provenance": []
    },
    "kernelspec": {
      "display_name": "python-dat550 kernel",
      "language": "python",
      "name": "python-dat550"
    },
    "language_info": {
      "codemirror_mode": {
        "name": "ipython",
        "version": 3
      },
      "file_extension": ".py",
      "mimetype": "text/x-python",
      "name": "python",
      "nbconvert_exporter": "python",
      "pygments_lexer": "ipython3",
      "version": "3.10.9"
    }
  },
  "nbformat": 4,
  "nbformat_minor": 0
}
