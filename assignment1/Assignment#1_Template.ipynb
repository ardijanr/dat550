{
 "cells": [
  {
   "cell_type": "markdown",
   "metadata": {
    "id": "iIa-poEHfw5Z"
   },
   "source": [
    "#Assignment 1 (Random Forest)"
   ]
  },
  {
   "cell_type": "markdown",
   "metadata": {
    "id": "lGU057DfgTIL"
   },
   "source": [
    "* In this project you are given a dataset of housing housing price prediction. \n",
    "Dataset description is found in the given datasets.\n",
    "\n",
    "* The goal of the project is to predict the price of a house given its attributes. \n",
    "Therefore, the problem is a regression task. \n",
    "\n",
    "* You need to build a random forest that consists of multiple decision trees (for regression) from the given training data set. Then, apply it on the test set and submit your code to generate predictions.\n",
    "You need to build the random forest and decision trees from scratch. (I.e., it is not allowed to use existing machine learning libraries or packages such as sklearn.)\n",
    "\n",
    "* You may use any programming language/environment of your choice, but you are required to submit the complete source code to produce the output\n",
    "If you use anything other than jupyter notebook, submit an executable and run that from the main function of the jupyter notebook so that the prediction generation is automated. We can provide assistance with this.\n",
    "The output (a single file with the predictions for each test instance) must be generated automatically using the approach implemented by you. Submitting predictions/code from any other source (Internet, another student, etc.) is considered cheating and will result in immediate disqualification (i.e., dismissal from the course)."
   ]
  },
  {
   "cell_type": "markdown",
   "metadata": {
    "id": "_kut1m20f4zR"
   },
   "source": [
    "##Part 1: Preprocessing and dataset analysis (20 points)"
   ]
  },
  {
   "cell_type": "markdown",
   "metadata": {
    "id": "5yANfSgagRJq"
   },
   "source": [
    "* The given dataset is quite complex, it has many attributes, and not all of them are useful! \n",
    "Training on such dataset results in a bad accuracy. And this is exactly the point! \n",
    "\n",
    "* \"Understanding the question is half the answer\". In data mining, understanding the dataset is half the answer! \n",
    "\n",
    "* In part 1 you need to analyze the dataset and make it clean. \n",
    " "
   ]
  },
  {
   "cell_type": "markdown",
   "metadata": {
    "id": "O4xjsBzYlfjq"
   },
   "source": [
    "###Load the dataset and explore (5 points)\n",
    "\n",
    "* Load the dataset, view the dataset and the shape of it, "
   ]
  },
  {
   "cell_type": "code",
   "execution_count": 2,
   "metadata": {},
   "outputs": [],
   "source": [
    "import pandas as pd\n",
    "import math\n",
    "import numbers\n",
    "import matplotlib.pyplot as plt\n",
    "from sklearn.ensemble import RandomForestRegressor  # or RandomForestRegressor for regression tasks"
   ]
  },
  {
   "cell_type": "code",
   "execution_count": 3,
   "metadata": {
    "id": "AUvifadOf4G-"
   },
   "outputs": [],
   "source": [
    "# def parse_data_description():\n",
    "#     f = open(\"./housing_data_description.csv\",\"r\")\n",
    "\n",
    "\n",
    "#     line = \" \"\n",
    "#     datatypes = {}\n",
    "#     datatypes_description = {}\n",
    "#     # i = 0\n",
    "#     current_key = \"\"\n",
    "#     while line!=\"\":\n",
    "#         line = f.readline()\n",
    "#         if not line.startswith(\"       \"):\n",
    "#             content = line.strip()\n",
    "\n",
    "#             #emtpy line\n",
    "#             if content==\"\":\n",
    "#                 continue\n",
    "\n",
    "#             keyinfo = content.split(\":\")\n",
    "#             key, description = keyinfo[0].strip(),keyinfo[1].strip()\n",
    "\n",
    "#             current_key = key\n",
    "#             datatypes[key] = {\n",
    "#                 \"type_description\" : description\n",
    "#             }\n",
    "#             continue\n",
    "\n",
    "#         value_info = line.lstrip().rstrip()\n",
    "#         if value_info==\"\":\n",
    "#             continue\n",
    "\n",
    "#         value_info = value_info.split(\"\t\")\n",
    "\n",
    "#         datatypes[current_key][value_info[0].strip()] = value_info[1].strip()\n",
    "\n",
    "#     pprint.pprint(datatypes)\n",
    "#     pprint.pprint(datatypes_description)\n",
    "\n",
    "\n",
    "db = pd.read_csv('./housing_price_train.csv')\n",
    "\n"
   ]
  },
  {
   "cell_type": "markdown",
   "metadata": {
    "id": "oWmPCu5hmAIj"
   },
   "source": [
    "### Clean the dataset (10 points)\n",
    "\n",
    "* We cannot train on a 'dirty' dataset! There are duplicated, Null, and missing values that you need to take care of!\n",
    "\n",
    "* Drop all columns which have null values >= 70 % and drop all rows which have null values >= 70 %.\n",
    "\n",
    "* You need to take care of categorial data!"
   ]
  },
  {
   "cell_type": "code",
   "execution_count": 4,
   "metadata": {
    "id": "exQbzeH7mM-I"
   },
   "outputs": [
    {
     "name": "stdout",
     "output_type": "stream",
     "text": [
      "        Id  MSSubClass MSZoning  LotArea Street LotShape LandContour  \\\n",
      "0        1          60       RL     8450   Pave      Reg         Lvl   \n",
      "1        2          20       RL     9600   Pave      Reg         Lvl   \n",
      "2        3          60       RL    11250   Pave      IR1         Lvl   \n",
      "3        4          70       RL     9550   Pave      IR1         Lvl   \n",
      "4        5          60       RL    14260   Pave      IR1         Lvl   \n",
      "...    ...         ...      ...      ...    ...      ...         ...   \n",
      "1455  1456          60       RL     7917   Pave      Reg         Lvl   \n",
      "1456  1457          20       RL    13175   Pave      Reg         Lvl   \n",
      "1457  1458          70       RL     9042   Pave      Reg         Lvl   \n",
      "1458  1459          20       RL     9717   Pave      Reg         Lvl   \n",
      "1459  1460          20       RL     9937   Pave      Reg         Lvl   \n",
      "\n",
      "     Utilities LotConfig LandSlope  ... EnclosedPorch 3SsnPorch ScreenPorch  \\\n",
      "0       AllPub    Inside       Gtl  ...             0         0           0   \n",
      "1       AllPub       FR2       Gtl  ...             0         0           0   \n",
      "2       AllPub    Inside       Gtl  ...             0         0           0   \n",
      "3       AllPub    Corner       Gtl  ...           272         0           0   \n",
      "4       AllPub       FR2       Gtl  ...             0         0           0   \n",
      "...        ...       ...       ...  ...           ...       ...         ...   \n",
      "1455    AllPub    Inside       Gtl  ...             0         0           0   \n",
      "1456    AllPub    Inside       Gtl  ...             0         0           0   \n",
      "1457    AllPub    Inside       Gtl  ...             0         0           0   \n",
      "1458    AllPub    Inside       Gtl  ...           112         0           0   \n",
      "1459    AllPub    Inside       Gtl  ...             0         0           0   \n",
      "\n",
      "     PoolArea MiscVal  MoSold  YrSold  SaleType  SaleCondition SalePrice  \n",
      "0           0       0       2    2008        WD         Normal    208500  \n",
      "1           0       0       5    2007        WD         Normal    181500  \n",
      "2           0       0       9    2008        WD         Normal    223500  \n",
      "3           0       0       2    2006        WD        Abnorml    140000  \n",
      "4           0       0      12    2008        WD         Normal    250000  \n",
      "...       ...     ...     ...     ...       ...            ...       ...  \n",
      "1455        0       0       8    2007        WD         Normal    175000  \n",
      "1456        0       0       2    2010        WD         Normal    210000  \n",
      "1457        0    2500       5    2010        WD         Normal    266500  \n",
      "1458        0       0       4    2010        WD         Normal    142125  \n",
      "1459        0       0       6    2008        WD         Normal    147500  \n",
      "\n",
      "[1460 rows x 70 columns]\n"
     ]
    }
   ],
   "source": [
    "value_types  = [\n",
    "    \"LotFrontage\",\n",
    "    \"LotArea\",\n",
    "    \"BsmtFinSF1\",\n",
    "    \"BsmtFinSF2\",\n",
    "    \"BsmtUnfSF\",\n",
    "    \"TotalBsmtSF\",\n",
    "    \"1stFlrSF\",\n",
    "    \"2ndFlrSF\",\n",
    "    \"LowQualFinSF\",\n",
    "    \"GrLivArea\",\n",
    "    \"BsmtFullBath\",\n",
    "    \"BsmtHalfBath\",\n",
    "    \"FullBath\",\n",
    "    \"HalfBath\",\n",
    "    \"Bedroom\",\n",
    "    \"Kitchen\",\n",
    "    \"TotRmsAbvGrd\",\n",
    "    \"Fireplaces\",\n",
    "    \"GarageYrBlt\",\n",
    "    \"GarageCars\",\n",
    "    \"GarageArea\",\n",
    "    \"WoodDeckSF\",\n",
    "    \"OpenPorchSF\",\n",
    "    \"EnclosedPorch\",\n",
    "    \"3SsnPorch\",\n",
    "    \"ScreenPorch\",\n",
    "    \"PoolArea\",\n",
    "    \"MiscVal\",\n",
    "    \"OverallQual\",\n",
    "    \"OverallCond\"\n",
    "]\n",
    "\n",
    "def PreprocessingData(db: pd.DataFrame):\n",
    "    \"\"\"\n",
    "        TODO\n",
    "        Show NULL values for each columns in dataset and thier percentage\n",
    "        Drop all columns which have null values >= 70 %\n",
    "        Drop all rows which have null values >= 70 %\n",
    "        Fill all missing values with the (mean, mode)\n",
    "    \"\"\"\n",
    "\n",
    "    for index, row in db.iterrows():\n",
    "        row_null_percentage = row.isnull().sum()/db.shape[0]\n",
    "        if row_null_percentage > 0.7:\n",
    "            db.drop(index=index, inplace=True)\n",
    "\n",
    "    for column_name in db.columns:\n",
    "        column_null_percentage = db[column_name].isnull().sum()/db.shape[1]\n",
    "        if column_null_percentage > 0.7:\n",
    "            db.drop(columns=column_name,inplace=True)\n",
    "\n",
    "\n",
    "\n",
    "    # Fill any columns of value types with the mean\n",
    "    for column_name in value_types:\n",
    "        try: # Key might have been removed due to the step above\n",
    "            if db[column_name].isnull().any():\n",
    "                db[column_name].fillna(db[column_name].mean(), inplace=True)\n",
    "        except KeyError:\n",
    "            pass\n",
    "\n",
    "    # Fill any categorical data with the mode() value, meaning the value which\n",
    "    # appears the the most\n",
    "    db.fillna(db.mode().iloc[0], inplace=True)\n",
    "\n",
    "PreprocessingData(db)\n",
    "\n",
    "print(db)\n"
   ]
  },
  {
   "cell_type": "markdown",
   "metadata": {
    "id": "LQ8kz_a-mdNx"
   },
   "source": [
    "### Correlations! (5 points)\n",
    "\n",
    "* Now we have a clean dataset, but not all attributes are useful! \n",
    "\n",
    "* Display the corrlation between all features and the sales price. This will show you which feature affects sales price more. You may use *corr()* function. \n",
    "\n",
    "* Choose the most correlated features, and remove others. "
   ]
  },
  {
   "cell_type": "code",
   "execution_count": 5,
   "metadata": {
    "id": "Irh60fo-nVtw"
   },
   "outputs": [
    {
     "name": "stdout",
     "output_type": "stream",
     "text": [
      "SalePrice        1.000000\n",
      "OverallQual      0.790982\n",
      "GrLivArea        0.708624\n",
      "GarageCars       0.640409\n",
      "GarageArea       0.623431\n",
      "TotalBsmtSF      0.613581\n",
      "1stFlrSF         0.605852\n",
      "FullBath         0.560664\n",
      "TotRmsAbvGrd     0.533723\n",
      "YearBuilt        0.522897\n",
      "YearRemodAdd     0.507101\n",
      "MasVnrArea       0.472614\n",
      "Fireplaces       0.466929\n",
      "BsmtFinSF1       0.386420\n",
      "WoodDeckSF       0.324413\n",
      "2ndFlrSF         0.319334\n",
      "OpenPorchSF      0.315856\n",
      "HalfBath         0.284108\n",
      "LotArea          0.263843\n",
      "BsmtFullBath     0.227122\n",
      "BsmtUnfSF        0.214479\n",
      "BedroomAbvGr     0.168213\n",
      "ScreenPorch      0.111447\n",
      "PoolArea         0.092404\n",
      "MoSold           0.046432\n",
      "3SsnPorch        0.044584\n",
      "BsmtFinSF2      -0.011378\n",
      "BsmtHalfBath    -0.016844\n",
      "MiscVal         -0.021190\n",
      "Id              -0.021917\n",
      "LowQualFinSF    -0.025606\n",
      "YrSold          -0.028923\n",
      "OverallCond     -0.077856\n",
      "MSSubClass      -0.084284\n",
      "EnclosedPorch   -0.128578\n",
      "KitchenAbvGr    -0.135907\n",
      "dtype: float64\n"
     ]
    },
    {
     "name": "stderr",
     "output_type": "stream",
     "text": [
      "/tmp/ipykernel_49478/1020346835.py:1: FutureWarning: The default value of numeric_only in DataFrame.corrwith is deprecated. In a future version, it will default to False. Select only valid columns or specify the value of numeric_only to silence this warning.\n",
      "  sale_price_correlation = db.corrwith(db['SalePrice']).sort_values(ascending=False)\n"
     ]
    }
   ],
   "source": [
    "sale_price_correlation = db.corrwith(db['SalePrice']).sort_values(ascending=False)\n",
    "print(sale_price_correlation)"
   ]
  },
  {
   "cell_type": "code",
   "execution_count": 6,
   "metadata": {},
   "outputs": [
    {
     "name": "stdout",
     "output_type": "stream",
     "text": [
      "Index(['SalePrice', 'OverallQual', 'GrLivArea', 'GarageCars', 'GarageArea',\n",
      "       'TotalBsmtSF', '1stFlrSF', 'FullBath', 'TotRmsAbvGrd', 'YearBuilt',\n",
      "       'YearRemodAdd', 'MasVnrArea', 'Fireplaces', 'BsmtFinSF1', 'WoodDeckSF',\n",
      "       '2ndFlrSF', 'OpenPorchSF', 'HalfBath', 'LotArea', 'BsmtFullBath',\n",
      "       'BsmtUnfSF'],\n",
      "      dtype='object')\n",
      "      SalePrice  OverallQual  GrLivArea  GarageCars  GarageArea  TotalBsmtSF  \\\n",
      "0        208500            7       1710           2         548          856   \n",
      "1        181500            6       1262           2         460         1262   \n",
      "2        223500            7       1786           2         608          920   \n",
      "3        140000            7       1717           3         642          756   \n",
      "4        250000            8       2198           3         836         1145   \n",
      "...         ...          ...        ...         ...         ...          ...   \n",
      "1455     175000            6       1647           2         460          953   \n",
      "1456     210000            6       2073           2         500         1542   \n",
      "1457     266500            7       2340           1         252         1152   \n",
      "1458     142125            5       1078           1         240         1078   \n",
      "1459     147500            5       1256           1         276         1256   \n",
      "\n",
      "      1stFlrSF  FullBath  TotRmsAbvGrd  YearBuilt  ...  MasVnrArea  \\\n",
      "0          856         2             8       2003  ...       196.0   \n",
      "1         1262         2             6       1976  ...         0.0   \n",
      "2          920         2             6       2001  ...       162.0   \n",
      "3          961         1             7       1915  ...         0.0   \n",
      "4         1145         2             9       2000  ...       350.0   \n",
      "...        ...       ...           ...        ...  ...         ...   \n",
      "1455       953         2             7       1999  ...         0.0   \n",
      "1456      2073         2             7       1978  ...       119.0   \n",
      "1457      1188         2             9       1941  ...         0.0   \n",
      "1458      1078         1             5       1950  ...         0.0   \n",
      "1459      1256         1             6       1965  ...         0.0   \n",
      "\n",
      "      Fireplaces  BsmtFinSF1  WoodDeckSF  2ndFlrSF  OpenPorchSF  HalfBath  \\\n",
      "0              0         706           0       854           61         1   \n",
      "1              1         978         298         0            0         0   \n",
      "2              1         486           0       866           42         1   \n",
      "3              1         216           0       756           35         0   \n",
      "4              1         655         192      1053           84         1   \n",
      "...          ...         ...         ...       ...          ...       ...   \n",
      "1455           1           0           0       694           40         1   \n",
      "1456           2         790         349         0            0         0   \n",
      "1457           2         275           0      1152           60         0   \n",
      "1458           0          49         366         0            0         0   \n",
      "1459           0         830         736         0           68         1   \n",
      "\n",
      "      LotArea  BsmtFullBath  BsmtUnfSF  \n",
      "0        8450             1        150  \n",
      "1        9600             0        284  \n",
      "2       11250             1        434  \n",
      "3        9550             1        540  \n",
      "4       14260             1        490  \n",
      "...       ...           ...        ...  \n",
      "1455     7917             0        953  \n",
      "1456    13175             1        589  \n",
      "1457     9042             0        877  \n",
      "1458     9717             1          0  \n",
      "1459     9937             1        136  \n",
      "\n",
      "[1460 rows x 21 columns]\n"
     ]
    }
   ],
   "source": [
    "sale_price_correlation_filtered = sale_price_correlation[abs(sale_price_correlation) > 0.20].index\n",
    "db_filtered = db[sale_price_correlation_filtered]\n",
    "\n",
    "print(sale_price_correlation_filtered)\n",
    "print(db_filtered)"
   ]
  },
  {
   "cell_type": "markdown",
   "metadata": {
    "id": "hhnNAO-wnXM6"
   },
   "source": [
    "## Part 2: Decision Tree (45 points)\n",
    "#### Building a Decision Tree:\n",
    "A Decision tree consists of nodes connected by edges. A decision tree is typically, a binary tree, which has the following properties:\n",
    "- One node is marked as Root node\n",
    "- Every node other than the root has a parent node\n",
    "- Each node can have at most 2 child nodes (left edge & right edge)\n",
    "- Leaf node is the node which contains pure data or when we reach to the maximum depth \n",
    "\n",
    "To create the decision tree model for scratch you need to create two classes (a class for the node, for example \"class DecisionNode():\" and a class for Decision Tree model, for example \"class RegressionDecisionTree():\")\n",
    "\n",
    "\n",
    "1- DecisionNode class used to save some values for each node we do the spliting on it until we reach the leaf node\n",
    "so we will save the following values for the node:\n",
    "- feature: feature index.\n",
    "- threshold: the value we used to split the data on.\n",
    "- value: the average value for the leaf node.\n",
    "- True_Branch: if the condition is true.\n",
    "- False_Branch: if the condition is false."
   ]
  },
  {
   "cell_type": "code",
   "execution_count": 7,
   "metadata": {
    "id": "cYNFB7QY-SJK"
   },
   "outputs": [],
   "source": [
    "class DecisionNode():\n",
    "    def __init__(self, feature_idx=None, threshold=None, value=None, true_branch=None, false_branch=None):\n",
    "        self.feature_idx = feature_idx # index of the feature that is used\n",
    "        self.threshold = threshold     # threshold value for feature when making the decision\n",
    "        self.value = value # Average value if the node is a leaf in the tree\n",
    "        self.true_branch = true_branch # the node we go to if decision returns True\n",
    "        self.false_branch = false_branch # the node we go to if decision returns False"
   ]
  },
  {
   "cell_type": "markdown",
   "metadata": {
    "id": "iYpCv95F-SJK"
   },
   "source": [
    "# Decision Tree Class\n",
    "This Class consists the following functions:\n",
    "<ol>\n",
    "<li> <b>build_tree</b>: used to create the decision tree nodes</li> \n",
    "<li> <b>calc_variance_reduction</b> : measure the impurity by using variance reduction measure (like MSE) </li> \n",
    "the function takes three parameters (parentRec: the records for the target before split,and the left and right records after splitting. This function used to measure the impurity for each node and decide if we will split or not.\n",
    "<li> <b>majority_vote</b>: used to calculate values for the leaf nodes records which equal to the mean of these records.</li> \n",
    "<li><b>split_by_feature</b>: this function take the feature and the threshold and check if the feature is numerical so it split the records into two node (true which is the left edge and false which is the right edge)\n",
    "if the feature is categorical so it split where the values equal to the threshold</li>\n",
    "<li> <b>fit</b>: Used to train the dataset after spliting the data into two part x: features, y: target</li>\n",
    "<li><b>predict_value</b>: used to predict the value for each record, it is a recursive method to find the leaf node that corresponds to prediction\n",
    "<li><b>predict</b>: take all records for the test data and iterate into each record to predit the y(target) value and save the result into a prediction list. "
   ]
  },
  {
   "cell_type": "code",
   "execution_count": 8,
   "metadata": {
    "id": "HSe6v4r1-SJK"
   },
   "outputs": [],
   "source": [
    "\n",
    "\n",
    "class RegressionDecisionTree():\n",
    "    # constructor\n",
    "    def __init__(self, min_VarianceReduction=1e-7, max_depth=5):\n",
    "        self.root = None # root of this tree\n",
    "        self.min_VarianceReduction = min_VarianceReduction # minimum VarianceReduction to allow splitting\n",
    "        # used to stopping conductions\n",
    "        self.max_depth = max_depth # maximum depth the tree grows to\n",
    "\n",
    "\n",
    "    # used to create the decision tree nodes\n",
    "    # X is the feature matrix containing training data\n",
    "    # y is the stuff we want to predict, aka sales price\n",
    "    def build_tree(self, X:pd.DataFrame, y: pd.DataFrame, current_depth=0):\n",
    "        # we will use decision dictionary to save the feature and the threshold we build the tree on\n",
    "        decision = None\n",
    "        # we will use subtrees dictionary to save the feature and the threshold we build the tree on\n",
    "        subtrees = None\n",
    "        largest_variance_Reduction = 0\n",
    "        # add y as last column of X\n",
    "        # df = X\n",
    "        df = pd.concat((X, y), axis=1)\n",
    "        # print(df)\n",
    "        n_rows, n_features = X.shape\n",
    "        if current_depth <= self.max_depth:\n",
    "            # iterate through every feature\n",
    "            for feature_idx in range(n_features):\n",
    "                # values of that column\n",
    "                feature_values = X.iloc[:, feature_idx]\n",
    "                unique_values = feature_values.unique()\n",
    "                # print(unique_values)\n",
    "                for threshold in unique_values:\n",
    "                    X_trueEdge, X_falseEdge = self.split_by_feature(df, feature_idx, threshold)\n",
    "                    # print(X_trueEdge)\n",
    "                    # print(X_falseEdge)\n",
    "                    if len(X_trueEdge) > 0 and len(X_falseEdge) > 0:\n",
    "                        y_true = X_trueEdge.iloc[:,-1]\n",
    "                        y_false = X_falseEdge.iloc[:,-1]\n",
    "                        # Calculate impurity\n",
    "                        VarianceRed = self.Calc_variance_reduction(y, y_true, y_false)\n",
    "                        # Keep track of which feature gave the largest information gain\n",
    "                        if VarianceRed > largest_variance_Reduction:\n",
    "                            largest_variance_Reduction = VarianceRed\n",
    "                            decision = {\n",
    "                                \"feature_idx\":feature_idx,\n",
    "                                \"threshold\":threshold\n",
    "                                }\n",
    "                            subtrees = {\n",
    "                                \"X_true\":X_trueEdge.iloc[:,:-1],\n",
    "                                \"y_true\":y_true,\n",
    "                                \"X_false\":X_falseEdge.iloc[:,:-1],\n",
    "                                \"y_false\":y_false\n",
    "                                }\n",
    "\n",
    "        # we will construct new branch of tree if the variance_Reduction is larger than minimum variance_Reduction that we've defined\n",
    "        if largest_variance_Reduction > self.min_VarianceReduction:\n",
    "            true_branch = self.build_tree(subtrees[\"X_true\"], subtrees[\"y_true\"], current_depth+1)\n",
    "            false_branch = self.build_tree(subtrees[\"X_false\"], subtrees[\"y_false\"], current_depth+1)\n",
    "            return DecisionNode(feature_idx=decision[\"feature_idx\"], threshold=decision[\"threshold\"], true_branch=true_branch, false_branch=false_branch)\n",
    "\n",
    "        # at leaf node we calculate the mean for the records\n",
    "        # print(\"i reached majority vote\")\n",
    "        leaf_value = self.majority_vote(y)\n",
    "        return DecisionNode(value=leaf_value)\n",
    "\n",
    "    # measure the impurity by using variance reduction measure (like MSE)\n",
    "    # left_edgeRec= True edge: where condition is true\n",
    "    # Right_edgeRec= False edge: where condition is false\n",
    "    def Calc_variance_reduction(self, parentRec, left_edgeRec, right_edgeRec):\n",
    "        n_left = len(left_edgeRec)\n",
    "        n_right = len(right_edgeRec)\n",
    "\n",
    "        # Calculate the weighted variance for left and right edges\n",
    "        left_weight = n_left / len(parentRec)\n",
    "        right_weight = n_right / len(parentRec)\n",
    "\n",
    "        left_variance = left_edgeRec.var() if n_left > 0 else 0  # Check to avoid var calculation on empty\n",
    "        right_variance = right_edgeRec.var() if n_right > 0 else 0  # Check to avoid var calculation on empty\n",
    "\n",
    "        left = left_weight * left_variance\n",
    "        right = right_weight * right_variance\n",
    "\n",
    "        # print(f\"left is {left}\")\n",
    "        # print(f\"right is {right}\")\n",
    "\n",
    "        # Calculate the result as variance reduction\n",
    "        result = parentRec.var() - (left + right)\n",
    "\n",
    "        return result\n",
    "\n",
    "\n",
    "\n",
    "    def majority_vote(self, Y):\n",
    "        return Y.mean()\n",
    "\n",
    "\n",
    "    def split_by_feature(self, db, feature_idx, threshold):\n",
    "\n",
    "        #split_by_feature</b>:\n",
    "        # This function takes a feature and a threshold\n",
    "        # then splits the records into two nodes based on whether the feature is numerical or categorical.\n",
    "        # 1. For numerical features, it divides the data into a \"true\" node (left edge) for values less than or equal to the threshold,\n",
    "        # and a \"false\" node (right edge) for values greater than the threshold.\n",
    "        #\n",
    "        # 2. For categorical features, it splits the data into two nodes where one contains records with values equal to\n",
    "        # the threshold (true node), and the other contains all other values (false node).\n",
    "\n",
    "        # split the data into left_edge & right_edge depends one specified feature and the threshold\n",
    "\n",
    "\n",
    "        # if db.columns[feature_idx] in value_types:\n",
    "        if isinstance(threshold, numbers.Number):\n",
    "            left_true = db[db.iloc[:, feature_idx] >= threshold]\n",
    "            right_false = db[db.iloc[:, feature_idx] < threshold]\n",
    "\n",
    "            return left_true, right_false\n",
    "\n",
    "        left_true = db[db.iloc[:, feature_idx] == threshold]\n",
    "        right_false = db[db.iloc[:, feature_idx] != threshold]\n",
    "\n",
    "        return left_true, right_false\n",
    "\n",
    "\n",
    "    # Used to train the dataset after spliting the data into x: features, y: target\n",
    "    def fit(self, X, y):\n",
    "        self.root = self.build_tree(X, y)\n",
    "\n",
    "\n",
    "    def predict_value(self, xTest, tree=None):\n",
    "        if tree is None:\n",
    "            tree = self.root\n",
    "\n",
    "        if tree.value is not None:\n",
    "            return tree.value\n",
    "\n",
    "        feature_value = xTest[tree.feature_idx]\n",
    "        # print(f\"xtest is: {xTest}\")\n",
    "\n",
    "        # if db.columns[feature_idx] in value_types:\n",
    "        if not isinstance(feature_value, numbers.Number):\n",
    "            if feature_value == tree.threshold:\n",
    "                return self.predict_value(xTest, tree.true_branch)\n",
    "            return self.predict_value(xTest, tree.false_branch)\n",
    "\n",
    "        if feature_value >= tree.threshold:\n",
    "            return self.predict_value(xTest, tree.true_branch)\n",
    "        return self.predict_value(xTest, tree.false_branch)\n",
    "\n",
    "    # to predict the value we need to pass the all records for features and we save the prediction for each records into a list\n",
    "    def predict(self, XTest):\n",
    "        y_pred = []\n",
    "        for idx, row in XTest.iterrows():\n",
    "            y_pred.append(self.predict_value(row.values))\n",
    "        return y_pred\n"
   ]
  },
  {
   "cell_type": "markdown",
   "metadata": {
    "id": "S9aqjovq-SJM"
   },
   "source": [
    "- To Check the Accuracy for our prediction we use CalcAccuracy function which take the actual values for the test dataset and the predicted values and apply the RMSE formula."
   ]
  },
  {
   "cell_type": "code",
   "execution_count": 9,
   "metadata": {
    "id": "24p2WfE8-SJN"
   },
   "outputs": [],
   "source": [
    "\n",
    "#sqrt(0.5 * E((actual-pred)^2))\n",
    "def CalcAccuracy(Actual_Y, Predicted_y):\n",
    "    return math.sqrt(((Actual_Y - Predicted_y)**2).sum() / len(Actual_Y))\n",
    "\n",
    "\n",
    "\n"
   ]
  },
  {
   "cell_type": "markdown",
   "metadata": {
    "id": "5_2Ve9v--SJN"
   },
   "source": [
    "- Build decision tree model\n",
    "- Fit the model\n",
    "- Predict the values from test data "
   ]
  },
  {
   "cell_type": "code",
   "execution_count": 10,
   "metadata": {
    "id": "7dJKxolT-SJN"
   },
   "outputs": [],
   "source": [
    "reg_tree = RegressionDecisionTree()\n",
    "x = db_filtered.drop(columns=\"SalePrice\")\n",
    "y = db_filtered[\"SalePrice\"]\n",
    "\n",
    "reg_tree.fit(x,y)\n",
    "\n",
    "\n",
    "\n"
   ]
  },
  {
   "cell_type": "code",
   "execution_count": 11,
   "metadata": {},
   "outputs": [
    {
     "data": {
      "image/png": "[encoded data removed]",
      "text/plain": [
       "<Figure size 1000x600 with 1 Axes>"
      ]
     },
     "metadata": {},
     "output_type": "display_data"
    }
   ],
   "source": [
    "def graph(x,title):\n",
    "\n",
    "    result_df = pd.DataFrame({\n",
    "        'Prediction': x,\n",
    "        'Actual': y\n",
    "        })\n",
    "\n",
    "    acc = CalcAccuracy(result_df[\"Actual\"],result_df[\"Prediction\"])\n",
    "\n",
    "    plt.figure(figsize=(10, 6))\n",
    "    plt.scatter(result_df['Actual'], result_df['Prediction'], color='green', s=3)  # Actual vs Prediction\n",
    "\n",
    "    plt.title(f'{title} , Accuracy: {acc}')\n",
    "    plt.xlabel('Actual Values')\n",
    "    plt.ylabel('Prediction Values')\n",
    "    plt.grid(True)\n",
    "    plt.show()\n",
    "\n",
    "\n",
    "graph(reg_tree.predict(x),\"Single Tree, Actual VS Prediction\")\n",
    "\n"
   ]
  },
  {
   "cell_type": "markdown",
   "metadata": {
    "id": "TvzaxcPAoJsk"
   },
   "source": [
    "## Part 3: Random Forest (20 points)\n",
    "#### Random forest class\n",
    "- the Class consist of the following functions:\n",
    "<ul>\n",
    "    <li>Constructor: consists of the subset data (Training & Testing) dataset after preprocessing and a list of deciceion tree objects </li>    \n",
    "    <li>Subsampling: Bagging we will take random sample with replacement for the Training dataset </li>\n",
    "    <li>build_model: first make subsample for the training dataset, then split the data into featurespart(X) and targetpart(Y), then take 10 samples of the feature part, finally build the decision tree (fit), this function take the number of DT that we want to build</li>\n",
    "    <li>predict: take the test dataset and make the prediction for the target field in all the tree in the random forest then take the mean for the prediction in each tree, finally add the mean of prediction to a list of predition </li>\n",
    "\n",
    "</ul>"
   ]
  },
  {
   "cell_type": "code",
   "execution_count": 19,
   "metadata": {
    "id": "a00zi12Q-SJO"
   },
   "outputs": [],
   "source": [
    "class RF(object):\n",
    "    def __init__(self):\n",
    "        self.Traindata = None  # training data set (loaded into memory)\n",
    "        self.Testdata = None  # Test data set for prediction\n",
    "        self.trees = []  # list of decision trees\n",
    "\n",
    "\n",
    "     # This function generate a subsample with replacement\n",
    "    def __subsampling(self, train_set, sample_size_ratio):\n",
    "        sample_number = round(len(train_set) * sample_size_ratio)\n",
    "        return  train_set.sample(n = sample_number, replace=True)\n",
    "\n",
    "\n",
    "\n",
    "    def build_model(self, train_set, sample_size_ratio, number_of_trees):\n",
    "        for i in range(number_of_trees):\n",
    "            TrainingSample = self.__subsampling(train_set, sample_size_ratio)\n",
    "\n",
    "            # Same as above\n",
    "            reg_tree = RegressionDecisionTree()\n",
    "            x = TrainingSample.drop(columns=\"SalePrice\")\n",
    "            y = TrainingSample[\"SalePrice\"]\n",
    "\n",
    "            reg_tree.fit(x,y)\n",
    "            self.trees.append(reg_tree)\n",
    "            # build a  tree\n",
    "            # Train the tree\n",
    "            # Add the tree to the Treeslist\n",
    "\n",
    "\n",
    "    def predict(self, test_set):\n",
    "        # [\n",
    "        #     t1: [1,2,3,4,5,6],\n",
    "        #     t2: [1,2,3,4,5,6],\n",
    "        #     t3: [1,2,3,4,5,6],\n",
    "        #     t3: [1,2,3,4,5,6],\n",
    "        #     t3: [1,2,3,4,5,6],\n",
    "        # ]\n",
    "        return pd.DataFrame([x.predict(test_set) for x in self.trees]).mean(axis=0)\n"
   ]
  },
  {
   "cell_type": "markdown",
   "metadata": {
    "id": "ITGUmaXc-SJO"
   },
   "source": [
    "### Create Random Forest\n",
    "\n",
    "* Create 10 Decision Tree in the randomforest\n",
    "* Train the random forest with the dataset\n",
    "* Use the created random forest to predict the test dataset "
   ]
  },
  {
   "cell_type": "code",
   "execution_count": 13,
   "metadata": {
    "id": "SjqaGyyl-qoY"
   },
   "outputs": [
    {
     "ename": "KeyboardInterrupt",
     "evalue": "",
     "output_type": "error",
     "traceback": [
      "\u001b[0;31m---------------------------------------------------------------------------\u001b[0m",
      "\u001b[0;31mKeyboardInterrupt\u001b[0m                         Traceback (most recent call last)",
      "\u001b[1;32m/home/ardijan/home_actual/repos/dat550/assignment1/Assignment#1_Template.ipynb Cell 25\u001b[0m line \u001b[0;36m2\n\u001b[1;32m      <a href='vscode-notebook-cell:/home/ardijan/home_actual/repos/dat550/assignment1/Assignment%231_Template.ipynb#X33sZmlsZQ%3D%3D?line=0'>1</a>\u001b[0m rf \u001b[39m=\u001b[39m RF()\n\u001b[0;32m----> <a href='vscode-notebook-cell:/home/ardijan/home_actual/repos/dat550/assignment1/Assignment%231_Template.ipynb#X33sZmlsZQ%3D%3D?line=1'>2</a>\u001b[0m rf\u001b[39m.\u001b[39;49mbuild_model(db_filtered,\u001b[39m0.1\u001b[39;49m,\u001b[39m10\u001b[39;49m)\n\u001b[1;32m      <a href='vscode-notebook-cell:/home/ardijan/home_actual/repos/dat550/assignment1/Assignment%231_Template.ipynb#X33sZmlsZQ%3D%3D?line=2'>3</a>\u001b[0m graph(rf\u001b[39m.\u001b[39mpredict(x),\u001b[39m\"\u001b[39m\u001b[39mRandom Forest Actual VS Prediciton, Ratio: 0.1\u001b[39m\u001b[39m\"\u001b[39m)\n\u001b[1;32m      <a href='vscode-notebook-cell:/home/ardijan/home_actual/repos/dat550/assignment1/Assignment%231_Template.ipynb#X33sZmlsZQ%3D%3D?line=5'>6</a>\u001b[0m rf \u001b[39m=\u001b[39m RF()\n",
      "\u001b[1;32m/home/ardijan/home_actual/repos/dat550/assignment1/Assignment#1_Template.ipynb Cell 25\u001b[0m line \u001b[0;36m2\n\u001b[1;32m     <a href='vscode-notebook-cell:/home/ardijan/home_actual/repos/dat550/assignment1/Assignment%231_Template.ipynb#X33sZmlsZQ%3D%3D?line=20'>21</a>\u001b[0m x \u001b[39m=\u001b[39m TrainingSample\u001b[39m.\u001b[39mdrop(columns\u001b[39m=\u001b[39m\u001b[39m\"\u001b[39m\u001b[39mSalePrice\u001b[39m\u001b[39m\"\u001b[39m)\n\u001b[1;32m     <a href='vscode-notebook-cell:/home/ardijan/home_actual/repos/dat550/assignment1/Assignment%231_Template.ipynb#X33sZmlsZQ%3D%3D?line=21'>22</a>\u001b[0m y \u001b[39m=\u001b[39m TrainingSample[\u001b[39m\"\u001b[39m\u001b[39mSalePrice\u001b[39m\u001b[39m\"\u001b[39m]\n\u001b[0;32m---> <a href='vscode-notebook-cell:/home/ardijan/home_actual/repos/dat550/assignment1/Assignment%231_Template.ipynb#X33sZmlsZQ%3D%3D?line=23'>24</a>\u001b[0m reg_tree\u001b[39m.\u001b[39;49mfit(x,y)\n\u001b[1;32m     <a href='vscode-notebook-cell:/home/ardijan/home_actual/repos/dat550/assignment1/Assignment%231_Template.ipynb#X33sZmlsZQ%3D%3D?line=24'>25</a>\u001b[0m \u001b[39mself\u001b[39m\u001b[39m.\u001b[39mtrees\u001b[39m.\u001b[39mappend(reg_tree)\n",
      "\u001b[1;32m/home/ardijan/home_actual/repos/dat550/assignment1/Assignment#1_Template.ipynb Cell 25\u001b[0m line \u001b[0;36m1\n\u001b[1;32m    <a href='vscode-notebook-cell:/home/ardijan/home_actual/repos/dat550/assignment1/Assignment%231_Template.ipynb#X33sZmlsZQ%3D%3D?line=123'>124</a>\u001b[0m \u001b[39mdef\u001b[39;00m \u001b[39mfit\u001b[39m(\u001b[39mself\u001b[39m, X, y):\n\u001b[0;32m--> <a href='vscode-notebook-cell:/home/ardijan/home_actual/repos/dat550/assignment1/Assignment%231_Template.ipynb#X33sZmlsZQ%3D%3D?line=124'>125</a>\u001b[0m     \u001b[39mself\u001b[39m\u001b[39m.\u001b[39mroot \u001b[39m=\u001b[39m \u001b[39mself\u001b[39;49m\u001b[39m.\u001b[39;49mbuild_tree(X, y)\n",
      "\u001b[1;32m/home/ardijan/home_actual/repos/dat550/assignment1/Assignment#1_Template.ipynb Cell 25\u001b[0m line \u001b[0;36m5\n\u001b[1;32m     <a href='vscode-notebook-cell:/home/ardijan/home_actual/repos/dat550/assignment1/Assignment%231_Template.ipynb#X33sZmlsZQ%3D%3D?line=54'>55</a>\u001b[0m \u001b[39mif\u001b[39;00m largest_variance_Reduction \u001b[39m>\u001b[39m \u001b[39mself\u001b[39m\u001b[39m.\u001b[39mmin_VarianceReduction:\n\u001b[1;32m     <a href='vscode-notebook-cell:/home/ardijan/home_actual/repos/dat550/assignment1/Assignment%231_Template.ipynb#X33sZmlsZQ%3D%3D?line=55'>56</a>\u001b[0m     true_branch \u001b[39m=\u001b[39m \u001b[39mself\u001b[39m\u001b[39m.\u001b[39mbuild_tree(subtrees[\u001b[39m\"\u001b[39m\u001b[39mX_true\u001b[39m\u001b[39m\"\u001b[39m], subtrees[\u001b[39m\"\u001b[39m\u001b[39my_true\u001b[39m\u001b[39m\"\u001b[39m], current_depth\u001b[39m+\u001b[39m\u001b[39m1\u001b[39m)\n\u001b[0;32m---> <a href='vscode-notebook-cell:/home/ardijan/home_actual/repos/dat550/assignment1/Assignment%231_Template.ipynb#X33sZmlsZQ%3D%3D?line=56'>57</a>\u001b[0m     false_branch \u001b[39m=\u001b[39m \u001b[39mself\u001b[39;49m\u001b[39m.\u001b[39;49mbuild_tree(subtrees[\u001b[39m\"\u001b[39;49m\u001b[39mX_false\u001b[39;49m\u001b[39m\"\u001b[39;49m], subtrees[\u001b[39m\"\u001b[39;49m\u001b[39my_false\u001b[39;49m\u001b[39m\"\u001b[39;49m], current_depth\u001b[39m+\u001b[39;49m\u001b[39m1\u001b[39;49m)\n\u001b[1;32m     <a href='vscode-notebook-cell:/home/ardijan/home_actual/repos/dat550/assignment1/Assignment%231_Template.ipynb#X33sZmlsZQ%3D%3D?line=57'>58</a>\u001b[0m     \u001b[39mreturn\u001b[39;00m DecisionNode(feature_idx\u001b[39m=\u001b[39mdecision[\u001b[39m\"\u001b[39m\u001b[39mfeature_idx\u001b[39m\u001b[39m\"\u001b[39m], threshold\u001b[39m=\u001b[39mdecision[\u001b[39m\"\u001b[39m\u001b[39mthreshold\u001b[39m\u001b[39m\"\u001b[39m], true_branch\u001b[39m=\u001b[39mtrue_branch, false_branch\u001b[39m=\u001b[39mfalse_branch)\n\u001b[1;32m     <a href='vscode-notebook-cell:/home/ardijan/home_actual/repos/dat550/assignment1/Assignment%231_Template.ipynb#X33sZmlsZQ%3D%3D?line=59'>60</a>\u001b[0m \u001b[39m# at leaf node we calculate the mean for the records\u001b[39;00m\n\u001b[1;32m     <a href='vscode-notebook-cell:/home/ardijan/home_actual/repos/dat550/assignment1/Assignment%231_Template.ipynb#X33sZmlsZQ%3D%3D?line=60'>61</a>\u001b[0m \u001b[39m# print(\"i reached majority vote\")\u001b[39;00m\n",
      "\u001b[1;32m/home/ardijan/home_actual/repos/dat550/assignment1/Assignment#1_Template.ipynb Cell 25\u001b[0m line \u001b[0;36m5\n\u001b[1;32m     <a href='vscode-notebook-cell:/home/ardijan/home_actual/repos/dat550/assignment1/Assignment%231_Template.ipynb#X33sZmlsZQ%3D%3D?line=54'>55</a>\u001b[0m \u001b[39mif\u001b[39;00m largest_variance_Reduction \u001b[39m>\u001b[39m \u001b[39mself\u001b[39m\u001b[39m.\u001b[39mmin_VarianceReduction:\n\u001b[1;32m     <a href='vscode-notebook-cell:/home/ardijan/home_actual/repos/dat550/assignment1/Assignment%231_Template.ipynb#X33sZmlsZQ%3D%3D?line=55'>56</a>\u001b[0m     true_branch \u001b[39m=\u001b[39m \u001b[39mself\u001b[39m\u001b[39m.\u001b[39mbuild_tree(subtrees[\u001b[39m\"\u001b[39m\u001b[39mX_true\u001b[39m\u001b[39m\"\u001b[39m], subtrees[\u001b[39m\"\u001b[39m\u001b[39my_true\u001b[39m\u001b[39m\"\u001b[39m], current_depth\u001b[39m+\u001b[39m\u001b[39m1\u001b[39m)\n\u001b[0;32m---> <a href='vscode-notebook-cell:/home/ardijan/home_actual/repos/dat550/assignment1/Assignment%231_Template.ipynb#X33sZmlsZQ%3D%3D?line=56'>57</a>\u001b[0m     false_branch \u001b[39m=\u001b[39m \u001b[39mself\u001b[39;49m\u001b[39m.\u001b[39;49mbuild_tree(subtrees[\u001b[39m\"\u001b[39;49m\u001b[39mX_false\u001b[39;49m\u001b[39m\"\u001b[39;49m], subtrees[\u001b[39m\"\u001b[39;49m\u001b[39my_false\u001b[39;49m\u001b[39m\"\u001b[39;49m], current_depth\u001b[39m+\u001b[39;49m\u001b[39m1\u001b[39;49m)\n\u001b[1;32m     <a href='vscode-notebook-cell:/home/ardijan/home_actual/repos/dat550/assignment1/Assignment%231_Template.ipynb#X33sZmlsZQ%3D%3D?line=57'>58</a>\u001b[0m     \u001b[39mreturn\u001b[39;00m DecisionNode(feature_idx\u001b[39m=\u001b[39mdecision[\u001b[39m\"\u001b[39m\u001b[39mfeature_idx\u001b[39m\u001b[39m\"\u001b[39m], threshold\u001b[39m=\u001b[39mdecision[\u001b[39m\"\u001b[39m\u001b[39mthreshold\u001b[39m\u001b[39m\"\u001b[39m], true_branch\u001b[39m=\u001b[39mtrue_branch, false_branch\u001b[39m=\u001b[39mfalse_branch)\n\u001b[1;32m     <a href='vscode-notebook-cell:/home/ardijan/home_actual/repos/dat550/assignment1/Assignment%231_Template.ipynb#X33sZmlsZQ%3D%3D?line=59'>60</a>\u001b[0m \u001b[39m# at leaf node we calculate the mean for the records\u001b[39;00m\n\u001b[1;32m     <a href='vscode-notebook-cell:/home/ardijan/home_actual/repos/dat550/assignment1/Assignment%231_Template.ipynb#X33sZmlsZQ%3D%3D?line=60'>61</a>\u001b[0m \u001b[39m# print(\"i reached majority vote\")\u001b[39;00m\n",
      "\u001b[1;32m/home/ardijan/home_actual/repos/dat550/assignment1/Assignment#1_Template.ipynb Cell 25\u001b[0m line \u001b[0;36m5\n\u001b[1;32m     <a href='vscode-notebook-cell:/home/ardijan/home_actual/repos/dat550/assignment1/Assignment%231_Template.ipynb#X33sZmlsZQ%3D%3D?line=53'>54</a>\u001b[0m \u001b[39m# we will construct new branch of tree if the variance_Reduction is larger than minimum variance_Reduction that we've defined\u001b[39;00m\n\u001b[1;32m     <a href='vscode-notebook-cell:/home/ardijan/home_actual/repos/dat550/assignment1/Assignment%231_Template.ipynb#X33sZmlsZQ%3D%3D?line=54'>55</a>\u001b[0m \u001b[39mif\u001b[39;00m largest_variance_Reduction \u001b[39m>\u001b[39m \u001b[39mself\u001b[39m\u001b[39m.\u001b[39mmin_VarianceReduction:\n\u001b[0;32m---> <a href='vscode-notebook-cell:/home/ardijan/home_actual/repos/dat550/assignment1/Assignment%231_Template.ipynb#X33sZmlsZQ%3D%3D?line=55'>56</a>\u001b[0m     true_branch \u001b[39m=\u001b[39m \u001b[39mself\u001b[39;49m\u001b[39m.\u001b[39;49mbuild_tree(subtrees[\u001b[39m\"\u001b[39;49m\u001b[39mX_true\u001b[39;49m\u001b[39m\"\u001b[39;49m], subtrees[\u001b[39m\"\u001b[39;49m\u001b[39my_true\u001b[39;49m\u001b[39m\"\u001b[39;49m], current_depth\u001b[39m+\u001b[39;49m\u001b[39m1\u001b[39;49m)\n\u001b[1;32m     <a href='vscode-notebook-cell:/home/ardijan/home_actual/repos/dat550/assignment1/Assignment%231_Template.ipynb#X33sZmlsZQ%3D%3D?line=56'>57</a>\u001b[0m     false_branch \u001b[39m=\u001b[39m \u001b[39mself\u001b[39m\u001b[39m.\u001b[39mbuild_tree(subtrees[\u001b[39m\"\u001b[39m\u001b[39mX_false\u001b[39m\u001b[39m\"\u001b[39m], subtrees[\u001b[39m\"\u001b[39m\u001b[39my_false\u001b[39m\u001b[39m\"\u001b[39m], current_depth\u001b[39m+\u001b[39m\u001b[39m1\u001b[39m)\n\u001b[1;32m     <a href='vscode-notebook-cell:/home/ardijan/home_actual/repos/dat550/assignment1/Assignment%231_Template.ipynb#X33sZmlsZQ%3D%3D?line=57'>58</a>\u001b[0m     \u001b[39mreturn\u001b[39;00m DecisionNode(feature_idx\u001b[39m=\u001b[39mdecision[\u001b[39m\"\u001b[39m\u001b[39mfeature_idx\u001b[39m\u001b[39m\"\u001b[39m], threshold\u001b[39m=\u001b[39mdecision[\u001b[39m\"\u001b[39m\u001b[39mthreshold\u001b[39m\u001b[39m\"\u001b[39m], true_branch\u001b[39m=\u001b[39mtrue_branch, false_branch\u001b[39m=\u001b[39mfalse_branch)\n",
      "\u001b[1;32m/home/ardijan/home_actual/repos/dat550/assignment1/Assignment#1_Template.ipynb Cell 25\u001b[0m line \u001b[0;36m5\n\u001b[1;32m     <a href='vscode-notebook-cell:/home/ardijan/home_actual/repos/dat550/assignment1/Assignment%231_Template.ipynb#X33sZmlsZQ%3D%3D?line=53'>54</a>\u001b[0m \u001b[39m# we will construct new branch of tree if the variance_Reduction is larger than minimum variance_Reduction that we've defined\u001b[39;00m\n\u001b[1;32m     <a href='vscode-notebook-cell:/home/ardijan/home_actual/repos/dat550/assignment1/Assignment%231_Template.ipynb#X33sZmlsZQ%3D%3D?line=54'>55</a>\u001b[0m \u001b[39mif\u001b[39;00m largest_variance_Reduction \u001b[39m>\u001b[39m \u001b[39mself\u001b[39m\u001b[39m.\u001b[39mmin_VarianceReduction:\n\u001b[0;32m---> <a href='vscode-notebook-cell:/home/ardijan/home_actual/repos/dat550/assignment1/Assignment%231_Template.ipynb#X33sZmlsZQ%3D%3D?line=55'>56</a>\u001b[0m     true_branch \u001b[39m=\u001b[39m \u001b[39mself\u001b[39;49m\u001b[39m.\u001b[39;49mbuild_tree(subtrees[\u001b[39m\"\u001b[39;49m\u001b[39mX_true\u001b[39;49m\u001b[39m\"\u001b[39;49m], subtrees[\u001b[39m\"\u001b[39;49m\u001b[39my_true\u001b[39;49m\u001b[39m\"\u001b[39;49m], current_depth\u001b[39m+\u001b[39;49m\u001b[39m1\u001b[39;49m)\n\u001b[1;32m     <a href='vscode-notebook-cell:/home/ardijan/home_actual/repos/dat550/assignment1/Assignment%231_Template.ipynb#X33sZmlsZQ%3D%3D?line=56'>57</a>\u001b[0m     false_branch \u001b[39m=\u001b[39m \u001b[39mself\u001b[39m\u001b[39m.\u001b[39mbuild_tree(subtrees[\u001b[39m\"\u001b[39m\u001b[39mX_false\u001b[39m\u001b[39m\"\u001b[39m], subtrees[\u001b[39m\"\u001b[39m\u001b[39my_false\u001b[39m\u001b[39m\"\u001b[39m], current_depth\u001b[39m+\u001b[39m\u001b[39m1\u001b[39m)\n\u001b[1;32m     <a href='vscode-notebook-cell:/home/ardijan/home_actual/repos/dat550/assignment1/Assignment%231_Template.ipynb#X33sZmlsZQ%3D%3D?line=57'>58</a>\u001b[0m     \u001b[39mreturn\u001b[39;00m DecisionNode(feature_idx\u001b[39m=\u001b[39mdecision[\u001b[39m\"\u001b[39m\u001b[39mfeature_idx\u001b[39m\u001b[39m\"\u001b[39m], threshold\u001b[39m=\u001b[39mdecision[\u001b[39m\"\u001b[39m\u001b[39mthreshold\u001b[39m\u001b[39m\"\u001b[39m], true_branch\u001b[39m=\u001b[39mtrue_branch, false_branch\u001b[39m=\u001b[39mfalse_branch)\n",
      "\u001b[1;32m/home/ardijan/home_actual/repos/dat550/assignment1/Assignment#1_Template.ipynb Cell 25\u001b[0m line \u001b[0;36m5\n\u001b[1;32m     <a href='vscode-notebook-cell:/home/ardijan/home_actual/repos/dat550/assignment1/Assignment%231_Template.ipynb#X33sZmlsZQ%3D%3D?line=53'>54</a>\u001b[0m \u001b[39m# we will construct new branch of tree if the variance_Reduction is larger than minimum variance_Reduction that we've defined\u001b[39;00m\n\u001b[1;32m     <a href='vscode-notebook-cell:/home/ardijan/home_actual/repos/dat550/assignment1/Assignment%231_Template.ipynb#X33sZmlsZQ%3D%3D?line=54'>55</a>\u001b[0m \u001b[39mif\u001b[39;00m largest_variance_Reduction \u001b[39m>\u001b[39m \u001b[39mself\u001b[39m\u001b[39m.\u001b[39mmin_VarianceReduction:\n\u001b[0;32m---> <a href='vscode-notebook-cell:/home/ardijan/home_actual/repos/dat550/assignment1/Assignment%231_Template.ipynb#X33sZmlsZQ%3D%3D?line=55'>56</a>\u001b[0m     true_branch \u001b[39m=\u001b[39m \u001b[39mself\u001b[39;49m\u001b[39m.\u001b[39;49mbuild_tree(subtrees[\u001b[39m\"\u001b[39;49m\u001b[39mX_true\u001b[39;49m\u001b[39m\"\u001b[39;49m], subtrees[\u001b[39m\"\u001b[39;49m\u001b[39my_true\u001b[39;49m\u001b[39m\"\u001b[39;49m], current_depth\u001b[39m+\u001b[39;49m\u001b[39m1\u001b[39;49m)\n\u001b[1;32m     <a href='vscode-notebook-cell:/home/ardijan/home_actual/repos/dat550/assignment1/Assignment%231_Template.ipynb#X33sZmlsZQ%3D%3D?line=56'>57</a>\u001b[0m     false_branch \u001b[39m=\u001b[39m \u001b[39mself\u001b[39m\u001b[39m.\u001b[39mbuild_tree(subtrees[\u001b[39m\"\u001b[39m\u001b[39mX_false\u001b[39m\u001b[39m\"\u001b[39m], subtrees[\u001b[39m\"\u001b[39m\u001b[39my_false\u001b[39m\u001b[39m\"\u001b[39m], current_depth\u001b[39m+\u001b[39m\u001b[39m1\u001b[39m)\n\u001b[1;32m     <a href='vscode-notebook-cell:/home/ardijan/home_actual/repos/dat550/assignment1/Assignment%231_Template.ipynb#X33sZmlsZQ%3D%3D?line=57'>58</a>\u001b[0m     \u001b[39mreturn\u001b[39;00m DecisionNode(feature_idx\u001b[39m=\u001b[39mdecision[\u001b[39m\"\u001b[39m\u001b[39mfeature_idx\u001b[39m\u001b[39m\"\u001b[39m], threshold\u001b[39m=\u001b[39mdecision[\u001b[39m\"\u001b[39m\u001b[39mthreshold\u001b[39m\u001b[39m\"\u001b[39m], true_branch\u001b[39m=\u001b[39mtrue_branch, false_branch\u001b[39m=\u001b[39mfalse_branch)\n",
      "\u001b[1;32m/home/ardijan/home_actual/repos/dat550/assignment1/Assignment#1_Template.ipynb Cell 25\u001b[0m line \u001b[0;36m3\n\u001b[1;32m     <a href='vscode-notebook-cell:/home/ardijan/home_actual/repos/dat550/assignment1/Assignment%231_Template.ipynb#X33sZmlsZQ%3D%3D?line=34'>35</a>\u001b[0m \u001b[39mif\u001b[39;00m \u001b[39mlen\u001b[39m(X_trueEdge) \u001b[39m>\u001b[39m \u001b[39m0\u001b[39m \u001b[39mand\u001b[39;00m \u001b[39mlen\u001b[39m(X_falseEdge) \u001b[39m>\u001b[39m \u001b[39m0\u001b[39m:\n\u001b[1;32m     <a href='vscode-notebook-cell:/home/ardijan/home_actual/repos/dat550/assignment1/Assignment%231_Template.ipynb#X33sZmlsZQ%3D%3D?line=35'>36</a>\u001b[0m     y_true \u001b[39m=\u001b[39m X_trueEdge\u001b[39m.\u001b[39miloc[:,\u001b[39m-\u001b[39m\u001b[39m1\u001b[39m]\n\u001b[0;32m---> <a href='vscode-notebook-cell:/home/ardijan/home_actual/repos/dat550/assignment1/Assignment%231_Template.ipynb#X33sZmlsZQ%3D%3D?line=36'>37</a>\u001b[0m     y_false \u001b[39m=\u001b[39m X_falseEdge\u001b[39m.\u001b[39;49miloc[:,\u001b[39m-\u001b[39;49m\u001b[39m1\u001b[39;49m]\n\u001b[1;32m     <a href='vscode-notebook-cell:/home/ardijan/home_actual/repos/dat550/assignment1/Assignment%231_Template.ipynb#X33sZmlsZQ%3D%3D?line=37'>38</a>\u001b[0m     \u001b[39m# Calculate impurity\u001b[39;00m\n\u001b[1;32m     <a href='vscode-notebook-cell:/home/ardijan/home_actual/repos/dat550/assignment1/Assignment%231_Template.ipynb#X33sZmlsZQ%3D%3D?line=38'>39</a>\u001b[0m     VarianceRed \u001b[39m=\u001b[39m \u001b[39mself\u001b[39m\u001b[39m.\u001b[39mCalc_variance_reduction(y, y_true, y_false)\n",
      "File \u001b[0;32m/nix/store/rvqcn9bl8vv0zfivjaz3g0x8awn8xdr4-python3-3.10.9-env/lib/python3.10/site-packages/pandas/core/indexing.py:1067\u001b[0m, in \u001b[0;36m_LocationIndexer.__getitem__\u001b[0;34m(self, key)\u001b[0m\n\u001b[1;32m   1065\u001b[0m     \u001b[39mif\u001b[39;00m \u001b[39mself\u001b[39m\u001b[39m.\u001b[39m_is_scalar_access(key):\n\u001b[1;32m   1066\u001b[0m         \u001b[39mreturn\u001b[39;00m \u001b[39mself\u001b[39m\u001b[39m.\u001b[39mobj\u001b[39m.\u001b[39m_get_value(\u001b[39m*\u001b[39mkey, takeable\u001b[39m=\u001b[39m\u001b[39mself\u001b[39m\u001b[39m.\u001b[39m_takeable)\n\u001b[0;32m-> 1067\u001b[0m     \u001b[39mreturn\u001b[39;00m \u001b[39mself\u001b[39;49m\u001b[39m.\u001b[39;49m_getitem_tuple(key)\n\u001b[1;32m   1068\u001b[0m \u001b[39melse\u001b[39;00m:\n\u001b[1;32m   1069\u001b[0m     \u001b[39m# we by definition only have the 0th axis\u001b[39;00m\n\u001b[1;32m   1070\u001b[0m     axis \u001b[39m=\u001b[39m \u001b[39mself\u001b[39m\u001b[39m.\u001b[39maxis \u001b[39mor\u001b[39;00m \u001b[39m0\u001b[39m\n",
      "File \u001b[0;32m/nix/store/rvqcn9bl8vv0zfivjaz3g0x8awn8xdr4-python3-3.10.9-env/lib/python3.10/site-packages/pandas/core/indexing.py:1563\u001b[0m, in \u001b[0;36m_iLocIndexer._getitem_tuple\u001b[0;34m(self, tup)\u001b[0m\n\u001b[1;32m   1561\u001b[0m \u001b[39mdef\u001b[39;00m \u001b[39m_getitem_tuple\u001b[39m(\u001b[39mself\u001b[39m, tup: \u001b[39mtuple\u001b[39m):\n\u001b[0;32m-> 1563\u001b[0m     tup \u001b[39m=\u001b[39m \u001b[39mself\u001b[39;49m\u001b[39m.\u001b[39;49m_validate_tuple_indexer(tup)\n\u001b[1;32m   1564\u001b[0m     \u001b[39mwith\u001b[39;00m suppress(IndexingError):\n\u001b[1;32m   1565\u001b[0m         \u001b[39mreturn\u001b[39;00m \u001b[39mself\u001b[39m\u001b[39m.\u001b[39m_getitem_lowerdim(tup)\n",
      "File \u001b[0;32m/nix/store/rvqcn9bl8vv0zfivjaz3g0x8awn8xdr4-python3-3.10.9-env/lib/python3.10/site-packages/pandas/core/indexing.py:870\u001b[0m, in \u001b[0;36m_LocationIndexer._validate_tuple_indexer\u001b[0;34m(self, key)\u001b[0m\n\u001b[1;32m    866\u001b[0m \u001b[39m\"\"\"\u001b[39;00m\n\u001b[1;32m    867\u001b[0m \u001b[39mCheck the key for valid keys across my indexer.\u001b[39;00m\n\u001b[1;32m    868\u001b[0m \u001b[39m\"\"\"\u001b[39;00m\n\u001b[1;32m    869\u001b[0m key \u001b[39m=\u001b[39m \u001b[39mself\u001b[39m\u001b[39m.\u001b[39m_validate_key_length(key)\n\u001b[0;32m--> 870\u001b[0m key \u001b[39m=\u001b[39m \u001b[39mself\u001b[39;49m\u001b[39m.\u001b[39;49m_expand_ellipsis(key)\n\u001b[1;32m    871\u001b[0m \u001b[39mfor\u001b[39;00m i, k \u001b[39min\u001b[39;00m \u001b[39menumerate\u001b[39m(key):\n\u001b[1;32m    872\u001b[0m     \u001b[39mtry\u001b[39;00m:\n",
      "\u001b[0;31mKeyboardInterrupt\u001b[0m: "
     ]
    }
   ],
   "source": [
    "rf = RF()\n",
    "rf.build_model(db_filtered,0.1,10)\n",
    "graph(rf.predict(x),\"Random Forest Actual VS Prediciton, Ratio: 0.1\")"
   ]
  },
  {
   "cell_type": "code",
   "execution_count": 22,
   "metadata": {
    "id": "sWmfgEVp-SJO"
   },
   "outputs": [
    {
     "data": {
      "image/png": "[encoded data removed]",
      "text/plain": [
       "<Figure size 1000x600 with 1 Axes>"
      ]
     },
     "metadata": {},
     "output_type": "display_data"
    },
    {
     "name": "stdout",
     "output_type": "stream",
     "text": [
      "0\n",
      "1\n",
      "2\n",
      "3\n"
     ]
    }
   ],
   "source": [
    "rf_model = RandomForestRegressor(n_estimators=200, random_state=100)  # Adjust parameters as needed\n",
    "\n",
    "# Training the model on the training set\n",
    "rf_model.fit(x, y)\n",
    "\n",
    "# Predicting the target variable for the test set\n",
    "y_pred = rf_model.predict(x)\n",
    "\n",
    "\n",
    "graph(y_pred,\"SciKit-Learn Prediction vs Actual\")\n",
    "\n",
    "rf = RF()\n",
    "rf.build_model(db_filtered,0.5,5)\n",
    "graph(rf.predict(x),\"Random Forest Actual VS Prediciton, Size: 5\")\n",
    "\n",
    "rf = RF()\n",
    "rf.build_model(db_filtered,0.5,10)\n",
    "graph(rf.predict(x),\"Random Forest Actual VS Prediciton, Size: 10\")\n",
    "\n",
    "rf = RF()\n",
    "rf.build_model(db_filtered,0.5,15)\n",
    "graph(rf.predict(x),\"Random Forest Actual VS Prediciton, Size: 15\")\n",
    "\n",
    "\n",
    "\n",
    "\n"
   ]
  },
  {
   "cell_type": "markdown",
   "metadata": {
    "id": "CVGAlCDkoRfo"
   },
   "source": [
    "# Part4: Comparison! (15 points)"
   ]
  },
  {
   "cell_type": "markdown",
   "metadata": {
    "id": "8tHF7qjiBl6A"
   },
   "source": [
    "Now that you have finished implementing your Random Forest, it's time for some experiments and analysis! \n",
    "\n",
    "* Use the Random Forest in the scikit-learn library and train it on the same dataset. \n",
    "\n",
    "* Compare the accuracy given by your Random Forest to the scikit-learn one. \n",
    "\n",
    "* Increase the number of trees in your Random Forest. Does it improve the accuracy? \n",
    "\n",
    "* Make a table for comparing your Random Forest accuracy with different number of trees with the scikit-learn one. What is your conclusion? "
   ]
  }
 ],
 "metadata": {
  "colab": {
   "provenance": []
  },
  "kernelspec": {
   "display_name": "python-dat550 kernel",
   "language": "python",
   "name": "python-dat550"
  },
  "language_info": {
   "codemirror_mode": {
    "name": "ipython",
    "version": 3
   },
   "file_extension": ".py",
   "mimetype": "text/x-python",
   "name": "python",
   "nbconvert_exporter": "python",
   "pygments_lexer": "ipython3",
   "version": "3.10.9"
  }
 },
 "nbformat": 4,
 "nbformat_minor": 4
}
